{
 "cells": [
  {
   "cell_type": "markdown",
   "metadata": {},
   "source": [
    "# GitHub Refresher Lab #\n",
    "\n",
    "As we entering the homestretch and your focus turns to the capstones, now is a good time to refresh the GitHub basics as it provides a great location to showcase your work if desired (it is not required to upload your capstones, but encouraged!)\n",
    "\n"
   ]
  },
  {
   "cell_type": "markdown",
   "metadata": {},
   "source": [
    "## Getting Started - Create GitHub Repository ##\n",
    "\n"
   ]
  },
  {
   "cell_type": "code",
   "execution_count": null,
   "metadata": {},
   "outputs": [],
   "source": []
  },
  {
   "cell_type": "markdown",
   "metadata": {},
   "source": [
    "## Exporting Environment / Preparing List of Dependencies ##\n",
    "\n",
    "One of the most import aspects to remember when publishing your project is the conda environment you have meticulously crafted to run your magnum opus currently only exists on your machine!  You need to export the `environment.yml` file and share it as well.\n",
    "\n",
    "An alternative method would be for a simpler project within a less extravagent environment would be to provide a list of dependencies in a `requirements.txt` file for easy pip installation."
   ]
  },
  {
   "cell_type": "code",
   "execution_count": null,
   "metadata": {},
   "outputs": [],
   "source": []
  },
  {
   "cell_type": "code",
   "execution_count": null,
   "metadata": {},
   "outputs": [],
   "source": []
  },
  {
   "cell_type": "code",
   "execution_count": null,
   "metadata": {},
   "outputs": [],
   "source": []
  },
  {
   "cell_type": "code",
   "execution_count": 1,
   "metadata": {},
   "outputs": [
    {
     "name": "stderr",
     "output_type": "stream",
     "text": [
      "mkdir: env: File exists\n"
     ]
    }
   ],
   "source": [
    "%%bash\n",
    "# create an env folder and export the yml file to it\n",
    "\n",
    "cd ..\n",
    "\n",
    "mkdir env\n",
    "\n",
    "cd env\n",
    "\n",
    "conda env export > environment.yml"
   ]
  },
  {
   "cell_type": "code",
   "execution_count": 2,
   "metadata": {},
   "outputs": [],
   "source": [
    "%%bash\n",
    "\n",
    "cd ..\n",
    "\n",
    "touch requirements.txt"
   ]
  },
  {
   "cell_type": "markdown",
   "metadata": {},
   "source": [
    "Great!  Now all they would have to do is run `pip install -r requirements.txt` to install the required dependencies into their preferred environment.\n",
    "\n",
    "Or, if you exported the `enviroment.yml` file share it as well."
   ]
  },
  {
   "cell_type": "code",
   "execution_count": 2,
   "metadata": {},
   "outputs": [],
   "source": [
    "import os\n",
    "import sys\n",
    "\n",
    "# add the 'src' directory as one where we can import modules\n",
    "src_dir = os.path.join(os.getcwd(), os.pardir, 'src')\n",
    "sys.path.append(src_dir)\n",
    "\n",
    "# Similar to hard coding this but dynamic (so you can copy and paste, or clone this project repository)\n",
    "# path = '/Users/bpolzin/Documents/driven_data/predicting_vaccines/src'\n",
    "# sys.path.append(path)\n",
    "\n",
    "from data_preprocessing.multilabel import multilabel_sample_dataframe, multilabel_train_test_split"
   ]
  },
  {
   "cell_type": "code",
   "execution_count": 1,
   "metadata": {},
   "outputs": [
    {
     "ename": "NameError",
     "evalue": "name 'process' is not defined",
     "output_type": "error",
     "traceback": [
      "\u001b[0;31m---------------------------------------------------------------------------\u001b[0m",
      "\u001b[0;31mNameError\u001b[0m                                 Traceback (most recent call last)",
      "\u001b[0;32m<ipython-input-1-ce26f146b4ef>\u001b[0m in \u001b[0;36m<module>\u001b[0;34m\u001b[0m\n\u001b[0;32m----> 1\u001b[0;31m \u001b[0mprocess\u001b[0m\u001b[0;34m.\u001b[0m\u001b[0menv\u001b[0m\u001b[0;34m.\u001b[0m\u001b[0mAPI_KEY\u001b[0m\u001b[0;34m\u001b[0m\u001b[0;34m\u001b[0m\u001b[0m\n\u001b[0m",
      "\u001b[0;31mNameError\u001b[0m: name 'process' is not defined"
     ]
    }
   ],
   "source": [
    "process.env.API_KEY"
   ]
  },
  {
   "cell_type": "code",
   "execution_count": 2,
   "metadata": {},
   "outputs": [
    {
     "name": "stdout",
     "output_type": "stream",
     "text": [
      "TERM_PROGRAM=Apple_Terminal\n",
      "SHELL=/bin/zsh\n",
      "TERM=xterm-color\n",
      "CLICOLOR=1\n",
      "TMPDIR=/var/folders/w4/sq4pl0m54_s7dgjdjhh5yb940000gn/T/\n",
      "CONDA_SHLVL=1\n",
      "CONDA_PROMPT_MODIFIER=(base) \n",
      "TERM_PROGRAM_VERSION=440\n",
      "TERM_SESSION_ID=6E7CC30E-E108-4359-8635-0BFAF438B439\n",
      "ZSH=/Users/bpolzin/.oh-my-zsh\n",
      "USER=bpolzin\n",
      "CONDA_EXE=/Users/bpolzin/opt/anaconda3/bin/conda\n",
      "SSH_AUTH_SOCK=/private/tmp/com.apple.launchd.TOCP7wWkKz/Listeners\n",
      "__CF_USER_TEXT_ENCODING=0x1F5:0x0:0x0\n",
      "KERNEL_LAUNCH_TIMEOUT=40\n",
      "JPY_PARENT_PID=85670\n",
      "PAGER=cat\n",
      "_CE_CONDA=\n",
      "LSCOLORS=Gxfxcxdxbxegedabagacad\n",
      "PATH=/Users/bpolzin/opt/anaconda3/bin:/Users/bpolzin/opt/anaconda3/condabin:/usr/local/bin:/usr/bin:/bin:/usr/sbin:/sbin:/Library/Apple/usr/bin:/Library/Frameworks/Mono.framework/Versions/Current/Commands\n",
      "_=/usr/bin/printenv\n",
      "LaunchInstanceID=4F73D535-A590-4539-BCE6-FA53CC99E039\n",
      "CONDA_PREFIX=/Users/bpolzin/opt/anaconda3\n",
      "__CFBundleIdentifier=com.apple.Terminal\n",
      "PWD=/Users/bpolzin/Documents/bs_ta/kickoffs/github/notebooks\n",
      "MPLBACKEND=module://ipykernel.pylab.backend_inline\n",
      "LANG=en_US.UTF-8\n",
      "XPC_FLAGS=0x0\n",
      "_CE_M=\n",
      "XPC_SERVICE_NAME=0\n",
      "SHLVL=2\n",
      "HOME=/Users/bpolzin\n",
      "CONDA_PYTHON_EXE=/Users/bpolzin/opt/anaconda3/bin/python\n",
      "LESS=-R\n",
      "LOGNAME=bpolzin\n",
      "CONDA_DEFAULT_ENV=base\n",
      "GIT_PAGER=cat\n",
      "SECURITYSESSIONID=186a7\n"
     ]
    }
   ],
   "source": [
    "%%bash\n",
    "\n",
    "printenv"
   ]
  },
  {
   "cell_type": "code",
   "execution_count": 3,
   "metadata": {},
   "outputs": [],
   "source": [
    "%%bash\n",
    "cd ../env\n",
    "\n",
    "source app-env"
   ]
  },
  {
   "cell_type": "code",
   "execution_count": 4,
   "metadata": {},
   "outputs": [
    {
     "name": "stdout",
     "output_type": "stream",
     "text": [
      "TERM_PROGRAM=Apple_Terminal\n",
      "SHELL=/bin/zsh\n",
      "TERM=xterm-color\n",
      "CLICOLOR=1\n",
      "TMPDIR=/var/folders/w4/sq4pl0m54_s7dgjdjhh5yb940000gn/T/\n",
      "CONDA_SHLVL=1\n",
      "CONDA_PROMPT_MODIFIER=(base) \n",
      "TERM_PROGRAM_VERSION=440\n",
      "TERM_SESSION_ID=6E7CC30E-E108-4359-8635-0BFAF438B439\n",
      "ZSH=/Users/bpolzin/.oh-my-zsh\n",
      "USER=bpolzin\n",
      "CONDA_EXE=/Users/bpolzin/opt/anaconda3/bin/conda\n",
      "SSH_AUTH_SOCK=/private/tmp/com.apple.launchd.TOCP7wWkKz/Listeners\n",
      "__CF_USER_TEXT_ENCODING=0x1F5:0x0:0x0\n",
      "KERNEL_LAUNCH_TIMEOUT=40\n",
      "JPY_PARENT_PID=85670\n",
      "PAGER=cat\n",
      "_CE_CONDA=\n",
      "LSCOLORS=Gxfxcxdxbxegedabagacad\n",
      "PATH=/Users/bpolzin/opt/anaconda3/bin:/Users/bpolzin/opt/anaconda3/condabin:/usr/local/bin:/usr/bin:/bin:/usr/sbin:/sbin:/Library/Apple/usr/bin:/Library/Frameworks/Mono.framework/Versions/Current/Commands\n",
      "_=/usr/bin/printenv\n",
      "LaunchInstanceID=4F73D535-A590-4539-BCE6-FA53CC99E039\n",
      "CONDA_PREFIX=/Users/bpolzin/opt/anaconda3\n",
      "__CFBundleIdentifier=com.apple.Terminal\n",
      "PWD=/Users/bpolzin/Documents/bs_ta/kickoffs/github/notebooks\n",
      "MPLBACKEND=module://ipykernel.pylab.backend_inline\n",
      "LANG=en_US.UTF-8\n",
      "XPC_FLAGS=0x0\n",
      "_CE_M=\n",
      "XPC_SERVICE_NAME=0\n",
      "SHLVL=2\n",
      "HOME=/Users/bpolzin\n",
      "CONDA_PYTHON_EXE=/Users/bpolzin/opt/anaconda3/bin/python\n",
      "LESS=-R\n",
      "LOGNAME=bpolzin\n",
      "CONDA_DEFAULT_ENV=base\n",
      "GIT_PAGER=cat\n",
      "SECURITYSESSIONID=186a7\n"
     ]
    }
   ],
   "source": [
    "\n",
    "%%bash\n",
    "\n",
    "printenv"
   ]
  },
  {
   "cell_type": "code",
   "execution_count": null,
   "metadata": {},
   "outputs": [],
   "source": []
  }
 ],
 "metadata": {
  "kernelspec": {
   "display_name": "machinelearning",
   "language": "python",
   "name": "machinelearning"
  },
  "language_info": {
   "codemirror_mode": {
    "name": "ipython",
    "version": 3
   },
   "file_extension": ".py",
   "mimetype": "text/x-python",
   "name": "python",
   "nbconvert_exporter": "python",
   "pygments_lexer": "ipython3",
   "version": "3.7.4"
  }
 },
 "nbformat": 4,
 "nbformat_minor": 4
}
